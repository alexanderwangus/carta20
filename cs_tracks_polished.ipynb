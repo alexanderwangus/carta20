{
 "cells": [
  {
   "cell_type": "code",
   "execution_count": 26,
   "metadata": {},
   "outputs": [],
   "source": [
    "%matplotlib inline\n",
    "\n",
    "import matplotlib\n",
    "import matplotlib.pyplot as plt\n",
    "import pandas as pd\n",
    "import seaborn as sns\n",
    "import numpy as np\n",
    "import os\n",
    "import importlib"
   ]
  },
  {
   "cell_type": "code",
   "execution_count": 81,
   "metadata": {},
   "outputs": [],
   "source": [
    "importlib.reload(computer_science)\n",
    "importlib.reload(util)\n",
    "\n",
    "from util import get_studlist, load_vocab, load_rev_vocab, load_courselist, assign_unique_students\n",
    "from util import get_tracks_deviation\n",
    "from util import VOCAB_FILE, STUD_FILE, MATRIX_FILE, COURSE_FILE, STRM_FILE\n",
    "import computer_science"
   ]
  },
  {
   "cell_type": "code",
   "execution_count": 11,
   "metadata": {},
   "outputs": [],
   "source": [
    "vocab = load_vocab(VOCAB_FILE)\n",
    "rev_vocab = load_rev_vocab(vocab)\n",
    "studlist = pd.read_csv(STUD_FILE, index_col=False, header=None, squeeze=True)\n",
    "X_CS = pd.read_csv(MATRIX_FILE, \n",
    "                header=None, \n",
    "                index_col=False, \n",
    "                dtype=np.float64)"
   ]
  },
  {
   "cell_type": "code",
   "execution_count": 14,
   "metadata": {},
   "outputs": [],
   "source": [
    "STRM_MIN = 1090 # must start 2008-09 or later\n",
    "STRM_MAX = 1190 # must not have classes in current school year 2018-2019\n",
    "\n",
    "strm_df = pd.read_csv(STRM_FILE)\n",
    "filtered_strm_df = strm_df.loc[(strm_df['strm_begin'] > STRM_MIN) & (strm_df['strm_end'] < STRM_MAX)]\n",
    "matches = filtered_strm_df.index\n",
    "X_CS = X_CS.loc[matches.intersection(X_CS.index)]"
   ]
  },
  {
   "cell_type": "code",
   "execution_count": 15,
   "metadata": {},
   "outputs": [],
   "source": [
    "courselist = load_courselist(COURSE_FILE)\n",
    "courselist_ix = [rev_vocab[c] for c in courselist]\n",
    "X_CS = X_CS[(X_CS.iloc[:,courselist_ix] > 0).sum(axis=1) >= 10] # filter out people who didn't graduate,\n",
    "                                                                # using heuristic of 10 CS courses"
   ]
  },
  {
   "cell_type": "code",
   "execution_count": 57,
   "metadata": {
    "scrolled": true
   },
   "outputs": [
    {
     "name": "stdout",
     "output_type": "stream",
     "text": [
      "CS205B not in rev_vocab\n",
      "CS272 not in rev_vocab\n",
      "ARTSTUDI160170 not in rev_vocab\n",
      "ARTSTUDI160179 not in rev_vocab\n",
      "CS244E not in rev_vocab\n",
      "CS205B not in rev_vocab\n",
      "CS272 not in rev_vocab\n",
      "BIOMEDIN231 not in rev_vocab\n",
      "BIOMEDIN231 not in rev_vocab\n",
      "BIOMEDIN231 not in rev_vocab\n",
      "BIO183 not in rev_vocab\n",
      "CS205B not in rev_vocab\n",
      "CS272 not in rev_vocab\n",
      "CS205B not in rev_vocab\n",
      "CS272 not in rev_vocab\n",
      "CS244E not in rev_vocab\n",
      "CS358 not in rev_vocab\n",
      "CS358 not in rev_vocab\n",
      "CS205B not in rev_vocab\n",
      "CS272 not in rev_vocab\n",
      "CS331 not in rev_vocab\n",
      "CS331A not in rev_vocab\n",
      "CS379 not in rev_vocab\n",
      "CS331 not in rev_vocab\n",
      "CS331A not in rev_vocab\n",
      "CS379 not in rev_vocab\n",
      "CS205B not in rev_vocab\n",
      "CS272 not in rev_vocab\n",
      "CS205B not in rev_vocab\n",
      "CS272 not in rev_vocab\n",
      "CS205B not in rev_vocab\n",
      "CS272 not in rev_vocab\n"
     ]
    }
   ],
   "source": [
    "track_students = {}\n",
    "for t in computer_science.TRACKNAMES:\n",
    "    track_students[t] = get_studlist(X_CS, computer_science.TRACKS[t], t, rev_vocab)"
   ]
  },
  {
   "cell_type": "code",
   "execution_count": 58,
   "metadata": {},
   "outputs": [
    {
     "name": "stdout",
     "output_type": "stream",
     "text": [
      "[18, 4, 45, 93, 224, 286, 179, 295, 155]\n"
     ]
    },
    {
     "data": {
      "image/png": "[encoded data removed]",
      "text/plain": [
       "<Figure size 1152x360 with 1 Axes>"
      ]
     },
     "metadata": {
      "needs_background": "light"
     },
     "output_type": "display_data"
    }
   ],
   "source": [
    "plt.figure(figsize = (16,5))\n",
    "nums = [len(studs) for studs in list(track_students.values())]\n",
    "sns.barplot(x=list(track_students.keys()), y=nums)\n",
    "plt.title('Students fulfilling track requirements')\n",
    "print(nums)"
   ]
  },
  {
   "cell_type": "code",
   "execution_count": 62,
   "metadata": {},
   "outputs": [],
   "source": [
    "track_students_unique = assign_unique_students(\n",
    "    computer_science.TRACKNAMES, \n",
    "    track_students, \n",
    "    computer_science.TRACK_PRIORITIES\n",
    ")"
   ]
  },
  {
   "cell_type": "code",
   "execution_count": 63,
   "metadata": {},
   "outputs": [
    {
     "name": "stdout",
     "output_type": "stream",
     "text": [
      "[18, 4, 45, 93, 164, 231, 179, 253, 26]\n"
     ]
    },
    {
     "data": {
      "image/png": "[encoded data removed]",
      "text/plain": [
       "<Figure size 1152x360 with 1 Axes>"
      ]
     },
     "metadata": {
      "needs_background": "light"
     },
     "output_type": "display_data"
    }
   ],
   "source": [
    "plt.figure(figsize = (16,5))\n",
    "unique_nums = [len(studs) for studs in list(track_students_unique.values())]\n",
    "g = sns.barplot(x=list(track_students_unique.keys()), y=unique_nums)\n",
    "plt.title('Unique students fulfilling track requirements')\n",
    "print(unique_nums)"
   ]
  },
  {
   "cell_type": "code",
   "execution_count": 65,
   "metadata": {},
   "outputs": [
    {
     "name": "stdout",
     "output_type": "stream",
     "text": [
      "matches made = 1299\n",
      "students matched = 922\n",
      "total CS students = 1728\n",
      "% students matched = 0.5335648148148148\n",
      "% students matched (exact) = 0.5335648148148148\n",
      "% students matched (dup) = 0.0\n",
      "% students not matched 0.46643518518518523\n"
     ]
    }
   ],
   "source": [
    "# statistics\n",
    "num_matches = sum(nums)\n",
    "studs_match = len(set([s for studs in list(track_students.values()) for s in studs]))\n",
    "studs_single_match = len(set([s for studs in list(track_students_unique.values()) for s in studs]))\n",
    "print('matches made =', num_matches)\n",
    "print('students matched =', studs_match)\n",
    "print('total CS students =', X_CS.shape[0])\n",
    "print('% students matched =', studs_match / X_CS.shape[0])\n",
    "print('% students matched (exact) =', studs_single_match / X_CS.shape[0])\n",
    "print('% students matched (dup) =', (studs_match-studs_single_match) / X_CS.shape[0])\n",
    "print('% students not matched', 1 - studs_match / X_CS.shape[0])"
   ]
  },
  {
   "cell_type": "code",
   "execution_count": 82,
   "metadata": {},
   "outputs": [],
   "source": [
    "tracks_dev_df = X_CS.apply(\n",
    "    get_tracks_deviation,\n",
    "    args=(computer_science.TRACKNAMES, computer_science.TRACKS, rev_vocab),\n",
    "    axis='columns'\n",
    ")\n",
    "\n",
    "tracks_dev_df.columns = computer_science.TRACKNAMES"
   ]
  },
  {
   "cell_type": "code",
   "execution_count": 83,
   "metadata": {},
   "outputs": [
    {
     "data": {
      "text/plain": [
       "Text(0.5, 1.0, \"Sum of students' inverse distances from track fulfillment\")"
      ]
     },
     "execution_count": 83,
     "metadata": {},
     "output_type": "execute_result"
    },
    {
     "data": {
      "image/png": "[encoded data removed]",
      "text/plain": [
       "<Figure size 1152x360 with 1 Axes>"
      ]
     },
     "metadata": {
      "needs_background": "light"
     },
     "output_type": "display_data"
    }
   ],
   "source": [
    "smoothed_tracks_dev_df = 1/(tracks_dev_df+1)\n",
    "plt.figure(figsize = (16,5))\n",
    "sns.barplot(x=smoothed_tracks_dev_df.columns, y=smoothed_tracks_dev_df.sum())\n",
    "plt.title(\"Sum of students' inverse distances from track fulfillment\")"
   ]
  },
  {
   "cell_type": "code",
   "execution_count": null,
   "metadata": {},
   "outputs": [],
   "source": []
  }
 ],
 "metadata": {
  "kernelspec": {
   "display_name": "Python 3",
   "language": "python",
   "name": "python3"
  },
  "language_info": {
   "codemirror_mode": {
    "name": "ipython",
    "version": 3
   },
   "file_extension": ".py",
   "mimetype": "text/x-python",
   "name": "python",
   "nbconvert_exporter": "python",
   "pygments_lexer": "ipython3",
   "version": "3.7.7"
  }
 },
 "nbformat": 4,
 "nbformat_minor": 4
}
